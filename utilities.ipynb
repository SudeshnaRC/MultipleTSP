{
 "cells": [
  {
   "cell_type": "code",
   "execution_count": 1,
   "metadata": {},
   "outputs": [
    {
     "ename": "SyntaxError",
     "evalue": "invalid character in identifier (<ipython-input-1-390ae1677d80>, line 2)",
     "output_type": "error",
     "traceback": [
      "\u001b[1;36m  File \u001b[1;32m\"<ipython-input-1-390ae1677d80>\"\u001b[1;36m, line \u001b[1;32m2\u001b[0m\n\u001b[1;33m    ​\u001b[0m\n\u001b[1;37m    ^\u001b[0m\n\u001b[1;31mSyntaxError\u001b[0m\u001b[1;31m:\u001b[0m invalid character in identifier\n"
     ]
    }
   ],
   "source": [
    "from collections import defaultdict\n",
    "import matplotlib\n",
    "matplotlib.use(\"agg\")\n",
    "import matplotlib.pyplot as plt\n",
    "\n",
    "def get_groupings(sample):\n",
    "    \"\"\"Grab selected items and group them by color\"\"\"\n",
    "    colored_points = defaultdict(list)\n",
    "    \n",
    "    for label, bool_val in sample.items():\n",
    "        # Skip over items that were not selected\n",
    "        if not bool_val:\n",
    "            continue\n",
    "\n",
    "        # Parse selected items\n",
    "        # Note: label look like \"<x_coord>,<y_coord>_<color>\"\n",
    "        coord, color = label.split(\"_\")\n",
    "        coord_tuple = tuple(map(float, coord.split(\",\")))\n",
    "        colored_points[color].append(coord_tuple)\n",
    "\n",
    "    return dict(colored_points)\n",
    "\n",
    "\n",
    "def visualize_groupings(groupings_dict, filename):\n",
    "    \"\"\"\n",
    "    Args:\n",
    "        groupings_dict: key is a color, value is a list of x-y coordinate tuples.\n",
    "          For example, {'r': [(0,1), (2,3)], 'b': [(8,3)]}\n",
    "        filename: name of the file to save plot in\n",
    "    \"\"\"\n",
    "    for color, points in groupings_dict.items():\n",
    "        # Ignore items that do not contain any coordinates\n",
    "        if not points:\n",
    "            continue\n",
    "\n",
    "        # Populate plot\n",
    "        point_style = color + \"o\"\n",
    "        plt.plot(*zip(*points), point_style)\n",
    "\n",
    "    plt.savefig(filename)\n",
    "\n",
    "\n",
    "def visualize_scatterplot(x_y_tuples_list, filename):\n",
    "    \"\"\"Plotting out a list of x-y tuples\n",
    "\n",
    "    Args:\n",
    "        x_y_tuples_list: A list of x-y coordinate values. e.g. [(1,4), (3, 2)]\n",
    "    \"\"\"\n",
    "    plt.plot(*zip(*x_y_tuples_list), \"o\")\n",
    "    plt.savefig(filename)"
   ]
  },
  {
   "cell_type": "code",
   "execution_count": null,
   "metadata": {},
   "outputs": [],
   "source": []
  }
 ],
 "metadata": {
  "kernelspec": {
   "display_name": "Python 3",
   "language": "python",
   "name": "python3"
  },
  "language_info": {
   "codemirror_mode": {
    "name": "ipython",
    "version": 3
   },
   "file_extension": ".py",
   "mimetype": "text/x-python",
   "name": "python",
   "nbconvert_exporter": "python",
   "pygments_lexer": "ipython3",
   "version": "3.6.5"
  }
 },
 "nbformat": 4,
 "nbformat_minor": 2
}
